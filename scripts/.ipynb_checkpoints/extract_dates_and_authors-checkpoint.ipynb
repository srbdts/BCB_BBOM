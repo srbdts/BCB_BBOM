{
 "cells": [
  {
   "cell_type": "code",
   "execution_count": 158,
   "id": "0dc056ee",
   "metadata": {},
   "outputs": [],
   "source": [
    "import json\n",
    "import re"
   ]
  },
  {
   "cell_type": "code",
   "execution_count": 169,
   "id": "1a25b5d4",
   "metadata": {},
   "outputs": [],
   "source": [
    "vol_nr = \"I\"\n",
    "file = json.load(open(\"output/vol_%s.json\"%(vol_nr),\"r\",encoding=\"utf-8\"))"
   ]
  },
  {
   "cell_type": "code",
   "execution_count": 170,
   "id": "55326f1c",
   "metadata": {},
   "outputs": [
    {
     "name": "stdout",
     "output_type": "stream",
     "text": [
      "ANDERSSON\n",
      "BAFUKA\n",
      "BLANDRE\n",
      "BOHNDORFF\n",
      "CALOEN DE BASSEGHEM (VAN)\n",
      "CHALTIN\n",
      "COSTERMANS\n",
      "FRENNET\n",
      "GERVEN (VAN)\n",
      "GESSI\n",
      "JUNKER\n",
      "PLAS (VANDEN)\n",
      "SCHOOTE (VAN)\n",
      "VRIELYNCK\n",
      "WARNIER\n",
      "WITTE\n",
      "ZBOINSKI\n",
      "96.80451127819549\n"
     ]
    }
   ],
   "source": [
    "# multilingual regexes for months\n",
    "months_french = r\"[Jj]anviers?|[Ff]évrier|[Mm]ars|[Aa]vril|[Mm]ai|[Jj]uin|[Jj]uillet|[Aa]oût|[Ss]eptembre|[Oo]ctobre|[Nn]ovembre|[Dd]écembre\"\n",
    "months_dutch = r\"[Jj]anuari|[fF]ebruari|[Mm]aart|[Aa]pril|[Mm]ei|[Jj]uni|[Jj]uli|[Aa]ugustus|[Ss]eptember|[Oo][ck]tober|[Nn]ovember|[Dd]ecember\"\n",
    "months_english = r\"[Jj]anuary|[fF]ebruary|[Mm]arch|[Aa]pril|[Mm]ay|[Jj]une|[Jj]uly|[Aa]ugust|[Ss]eptember|[Oo][c]tober|[Nn]ovember|[Dd]ecember\"\n",
    "months = \"|\".join([months_french,months_dutch,months_english])\n",
    "\n",
    "# multilingual regexes for dates, initials, titles and names\n",
    "query_date = r\"(([1-3l]?[0-9l]( ?er\\.?)? )?(\" +months+r\") (19|20)[0-9][0-9]\\.?[ ]+)\"\n",
    "query_initials = r\"(\\[[^]]+\\] )?((([Mm]gr.?|[dD]octeur|[Pp]ater|[Cc]omte|[Dd]r\\.?) )?([A-ZÊÉÈ]h?[\\.[ -]*|(Eug|Maur|Ed[gm]|Ing|Fred)\\. )+([A-ZÊÉÈ][a-zéèêà'’]+[ -]?|de[rn]? ?|van ?)+)\"\n",
    "query_name = r\"(\\[[^]]+\\] )?((([Mm]gr.?|[Dd]octeur|[Ppater]|[Cc]omte|[Dd]r\\.?) )?([A-ZÊÉÈ][a-zéèêà'’]+[ -]+|(Eug|Maur|Ed[gm]|Ing|Fred)\\. )([A-ZÊÉÈ][a-zéèêà'’]+[ -]?|de[nr]? ?|van ?)+)\"\n",
    "\n",
    "query_date_initials = re.compile(query_date+query_initials)\n",
    "query_date_name = re.compile(query_date+query_name)\n",
    "\n",
    "n_found = 0\n",
    "n_total = 0\n",
    "\n",
    "# search the records for all regexes\n",
    "for record in file:\n",
    "    hits_initials = query_date_initials.search(record.get(\"text\"))\n",
    "    if not hits_initials:\n",
    "        hits_name = query_date_name.search(record.get(\"text\"))\n",
    "        if not hits_name:\n",
    "            print(record.get(\"name\"))\n",
    "            record[\"date\"] = \"NA\"\n",
    "            record[\"author\"] = \"NA\"\n",
    "        else:\n",
    "            n_found += 1\n",
    "            date = hits_name.group(1).strip(\".\").strip()\n",
    "            author = hits_name.group(7).strip()\n",
    "            record[\"date\"] = date\n",
    "            record[\"author\"] = author\n",
    "    else:\n",
    "        n_found += 1\n",
    "        date = hits_initials.group(1).strip(\".\").strip()\n",
    "        author = hits_initials.group(7).strip()\n",
    "        record[\"date\"] = date\n",
    "        record[\"author\"] = author\n",
    "    n_total += 1\n",
    "    \n",
    "print(100*(n_found/n_total)) "
   ]
  },
  {
   "cell_type": "code",
   "execution_count": 172,
   "id": "1d9b9727",
   "metadata": {},
   "outputs": [],
   "source": [
    "with open('output/vol_%s_labelled.json'%(vol_nr), 'w',encoding=\"utf-8\") as outfile:\n",
    "    json.dump(file, outfile,ensure_ascii=False,indent=3)"
   ]
  },
  {
   "cell_type": "code",
   "execution_count": 37,
   "id": "22eaea0d",
   "metadata": {},
   "outputs": [
    {
     "name": "stdout",
     "output_type": "stream",
     "text": [
      "BATJOENS\n",
      "28 mars 1984. [Comm.] Maurice Welsch \n",
      "19 octobre 1983. [Comm.] Léon Calembert \n",
      "Avril 1972. [J. So.] Joseph Derriks\n",
      "21 avril 1981. [J.O.] Jean Comhaire\n",
      "20 février 1984. [R.V.] Pierre Salmon\n",
      "24 novembre 1982. [M.L.] Roger Heremans\n",
      "22 octobre 1978. [Comm.] Pierre Salmon\n",
      "HUET\n",
      "JURION\n",
      "KOSKINEN\n",
      "LAMBERT\n",
      "24 juillet 1963. Jacques Lefebvre \n",
      "LEJEUNE\n",
      "LINDNER\n",
      "LUHINDA SHYALO MUNONGO\n",
      "MARCHAL\n",
      "MWENDA KITANIKA WA MABUMBA\n",
      "PANIER\n",
      "21 avril 1981. [J.D.] Jean Comhaire\n",
      "31 mars 1982. [J.O.] Jean Comhaire\n",
      "7 octobre 1980. [P.F.] Joseph Derriks\n",
      "SEYL\n",
      "SMETS\n",
      "SÜTINEN\n",
      "89.78102189781022\n"
     ]
    }
   ],
   "source": [
    "# Query the records for date and (title and) name combined, in different languages\n",
    "query_basic_french = r\"([1-3l]?[0-9l]( ?er\\.?)? )?([Jj]anviers?|[Ff]évrier|[Mm]ars|[Aa]vril|[Mm]ai|[Jj]uin|[Jj]uillet|[Aa]oût|[Ss]eptembre|[Oo]ctobre|[Nn]ovembre|[Dd]écembre) (19|20)[0-9][0-9]\\.?[ \\n]+(\\[[^]]+\\] )?([Mm]gr.? )?([A-ZÊÉÈ]h?[\\.[ -]+)+([A-ZÊÉÈ][a-zéèêà']+ ?)+\"\n",
    "query_basic_french_full = r\"([1-3l]?[0-9l]( ?er\\.?)? )?([Jj]anviers?|[Ff]évrier|[Mm]ars|[Aa]vril|[Mm]ai|[Jj]uin|[Jj]uillet|[Aa]oût|[Ss]eptembre|[Oo]ctobre|[Nn]ovembre|[Dd]écembre) (19|20)[0-9][0-9]\\.?[ \\n]+(\\[[^]]+\\] )?([Mm]gr.? )?([A-ZÊÉÈ][a-zéèêà']+ ?)([A-ZÊÉÈ][a-zéèêà']+ ?)+\"\n",
    "query_basic_french = re.compile(query_basic_french)\n",
    "query_basic_french_full = re.compile(query_basic_french_full)\n",
    "query_basic_dutch = r\"([1-3l]?[0-9l]? )?([Jj]anuari|[fF]ebruari|[Mm]aart|[Aa]pril|[Mm]ei|[Jj]uni|[Jj]uli|[Aa]ugustus|[Ss]eptember|[Oo][ck]tober|[Nn]ovember|[Dd]ecember) (19|20)[0-9][0-9]\\.?[ \\n]+(\\[[^]]+\\] )?([Mm]gr.? )?([A-ZÊÉÈ]h?[\\.[ -]+)+([A-ZÊÉÈ][a-zéèêà']+ ?)+\"\n",
    "query_basic_dutch = re.compile(query_basic_dutch)\n",
    "query_basic_english = r\"([1-3l]?[0-9l]? )?([Jj]anuary|[fF]ebruary|[Mm]arch|[Aa]pril|[Mm]ay|[Jj]une|[Jj]uly|[Aa]ugust|[Ss]eptember|[Oo][c]tober|[Nn]ovember|[Dd]ecember) (19|20)[0-9][0-9]\\.?[ \\n]+(\\[[^]]+\\] )?([Mm]gr.? )?([A-ZÊÉÈ]h?[\\.[ -]+)+([A-ZÊÉÈ][a-zéèêà']+ ?)+\"\n",
    "query_basic_english = re.compile(query_basic_english)\n",
    "query_test = r\"Il\"\n",
    "query_test = re.compile(query_test)\n",
    "n_found = 0\n",
    "n_total = 0\n",
    "for record in file:\n",
    "    hits = query_basic_french.search(record.get(\"text\"))\n",
    "    if not hits:\n",
    "        dutch_hits = query_basic_dutch.search(record.get(\"text\"))\n",
    "        if not dutch_hits:\n",
    "            english_hits = query_basic_english.search(record.get(\"text\"))\n",
    "            if not english_hits:\n",
    "                french_hits_full = query_basic_french_full.search(record.get(\"text\"))\n",
    "                if not french_hits_full:\n",
    "                    print(record.get(\"name\"))\n",
    "                else:\n",
    "                    n_found += 1\n",
    "                    print(french_hits_full.group())\n",
    "            else:\n",
    "                n_found += 1\n",
    "                #print(english_hits)\n",
    "        else:\n",
    "            n_found += 1\n",
    "            #print(dutch_hits.group())\n",
    "    else:\n",
    "        n_found += 1\n",
    "        #print(hits.group())\n",
    "    n_total += 1\n",
    "print(100*(n_found/n_total))"
   ]
  },
  {
   "cell_type": "code",
   "execution_count": 52,
   "id": "05d82b7d",
   "metadata": {},
   "outputs": [],
   "source": [
    "# write list of authors to output file\n",
    "\n",
    "authors = open(\"auteurs_koloniale_biografie.txt\",\"r\",encoding=\"utf-8\")\n",
    "year_to_author = {}\n",
    "author_to_id = {}\n",
    "for line in authors.readlines():\n",
    "    [author,id,years] = line.strip().split(\"\\t\")\n",
    "    years = years.split(\"/\")\n",
    "    for year in years:\n",
    "        if not year in year_to_author:\n",
    "            year_to_author[year]=[author]\n",
    "        else:\n",
    "            year_to_author[year].append(author)\n",
    "    author_to_id[author]=id"
   ]
  },
  {
   "cell_type": "code",
   "execution_count": null,
   "id": "e90bb969",
   "metadata": {},
   "outputs": [],
   "source": []
  },
  {
   "cell_type": "code",
   "execution_count": null,
   "id": "0172a6c0",
   "metadata": {},
   "outputs": [],
   "source": []
  }
 ],
 "metadata": {
  "kernelspec": {
   "display_name": "Python 3",
   "language": "python",
   "name": "python3"
  },
  "language_info": {
   "codemirror_mode": {
    "name": "ipython",
    "version": 3
   },
   "file_extension": ".py",
   "mimetype": "text/x-python",
   "name": "python",
   "nbconvert_exporter": "python",
   "pygments_lexer": "ipython3",
   "version": "3.8.8"
  }
 },
 "nbformat": 4,
 "nbformat_minor": 5
}
